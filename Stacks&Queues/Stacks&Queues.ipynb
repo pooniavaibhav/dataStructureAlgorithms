{
 "cells": [
  {
   "cell_type": "markdown",
   "metadata": {},
   "source": [
    "## Stacks  and Queues\n",
    "* These are abstract datatypes containing elements of same data type arranged in linear order.\n",
    "* Operations are allowed only at the ends.\n",
    "\n",
    "### Stack\n",
    "* Insertion, deletion allowed only at one end.\n",
    "* LIFO - It is last in first out structure.\n",
    "\n",
    "### Queue\n",
    "* Insertions is performed at one end and deletion is performed on the other end.\n",
    "* FIFO It is first in first out structure."
   ]
  },
  {
   "cell_type": "markdown",
   "metadata": {},
   "source": [
    "## Stack\n",
    "Insertion and deletion allowed only at one end which is called top.\n",
    "* Insertion is called PUSH operation.\n",
    "* Deletion is called POP operation.\n",
    "\n",
    "### Stack overflow-\n",
    "Before a push operation we have to make sure that the stack is not full. If the stack is full and push operation is attempted it will be overflow of stack.\n",
    "\n",
    "### Stack underflow-\n",
    "Before a pop operation we have to make sure that the stack is not empty bcz if the stack is empty and we perform a pop operation then the stack is said to be in under flow state."
   ]
  },
  {
   "cell_type": "markdown",
   "metadata": {},
   "source": [
    "## Queue\n",
    "In a queue insertion and deletion are performed at different ends and behaviour of a queue is first in first out.\n",
    "Enqueue - Insertion in queue is called Enqueue.Insertion is performed in the rear end of queue.\n",
    "Dequeue - Deletion in queue is called dequeue. Deletion is perfomed at the front end of the queue."
   ]
  },
  {
   "cell_type": "markdown",
   "metadata": {},
   "source": [
    "### deque-\n",
    "Double ended queue:\n",
    "In deque insertion and deletion can be performed at both the front and rear end."
   ]
  },
  {
   "cell_type": "markdown",
   "metadata": {},
   "source": [
    "### Priority queue:\n",
    "Each node of priority queue  has three parts-\n",
    "* Priority\n",
    "* Info\n",
    "* Link"
   ]
  },
  {
   "cell_type": "markdown",
   "metadata": {},
   "source": [
    "Each element of queue has some priority and all elements are processed based on their priorities. An element with high priority is processed before element with low priority.\n",
    "FIFO rule applies if two elements have same priority."
   ]
  },
  {
   "cell_type": "markdown",
   "metadata": {},
   "source": [
    "The link list is sorted based on the priority so that element with highest priority is on front."
   ]
  },
  {
   "cell_type": "code",
   "execution_count": null,
   "metadata": {},
   "outputs": [],
   "source": []
  }
 ],
 "metadata": {
  "kernelspec": {
   "display_name": "Python 3",
   "language": "python",
   "name": "python3"
  },
  "language_info": {
   "codemirror_mode": {
    "name": "ipython",
    "version": 2
   },
   "file_extension": ".py",
   "mimetype": "text/x-python",
   "name": "python",
   "nbconvert_exporter": "python",
   "pygments_lexer": "ipython2",
   "version": "2.7.17"
  }
 },
 "nbformat": 4,
 "nbformat_minor": 2
}
