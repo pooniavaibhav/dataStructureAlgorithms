{
 "cells": [
  {
   "cell_type": "markdown",
   "metadata": {},
   "source": [
    "## LinearSearch\n",
    "* It is the simplest of all searching.\n",
    "* It is also called Sequential Search.\n",
    "* We start from the begining of the list and sequentially check each element.We would stop when we find the value or we reach at the end of the list."
   ]
  },
  {
   "cell_type": "markdown",
   "metadata": {},
   "source": [
    "### Analysis:\n",
    "* BestCase-\n",
    "Search value present at the first position.\n",
    "* Worstcase- \n",
    "Search value not present in the list.\n",
    "* Average case-\n",
    "To search an element at ith position."
   ]
  },
  {
   "cell_type": "markdown",
   "metadata": {},
   "source": [
    "#### Efficiency of linear search can be improved if it is in sorted order-\n",
    "In a sorted array if we reach at element greater than search value.We can say that search value is not present.We need not to go till end of the list."
   ]
  },
  {
   "cell_type": "markdown",
   "metadata": {},
   "source": [
    "### Binary Search-\n",
    "Works only on the sorted arrays-\n",
    "* We start searching the value with the middle element of the array.\n",
    "* If search value is equal to the middle element Search is successful.\n",
    "* If search value is less than the middle element continue searching in the left half.\n",
    "* If search value is greater than the middle element Continue searching in right half."
   ]
  },
  {
   "cell_type": "markdown",
   "metadata": {},
   "source": [
    "## BinarySearchAnalysis:\n",
    "* Bestcase- Search value present in the middle of the list.\n",
    "* Worstcase - Search value not present."
   ]
  },
  {
   "cell_type": "markdown",
   "metadata": {},
   "source": [
    "### Shortcomings-\n",
    "\n",
    "* As it needs sorted array it requires additional cost of array. So if the our data is static only then binary search is good. But if we have frequent insertion and deletion then it is not worthy.\n",
    "* Can not use binary search on linked list.As we require random access to each element which is not possible in linked list."
   ]
  },
  {
   "cell_type": "code",
   "execution_count": null,
   "metadata": {},
   "outputs": [],
   "source": []
  }
 ],
 "metadata": {
  "kernelspec": {
   "display_name": "Python 3",
   "language": "python",
   "name": "python3"
  },
  "language_info": {
   "codemirror_mode": {
    "name": "ipython",
    "version": 2
   },
   "file_extension": ".py",
   "mimetype": "text/x-python",
   "name": "python",
   "nbconvert_exporter": "python",
   "pygments_lexer": "ipython2",
   "version": "2.7.17"
  }
 },
 "nbformat": 4,
 "nbformat_minor": 2
}
