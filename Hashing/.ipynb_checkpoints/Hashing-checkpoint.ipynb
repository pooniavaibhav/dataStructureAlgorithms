{
 "cells": [
  {
   "cell_type": "markdown",
   "metadata": {},
   "source": [
    "#### Introduction\n",
    "In Linear search and binary search we saw that the search time is dependent on the number of elements.So we need a method that has constant time-\n",
    "* Direct addressing.\n",
    "* Hashing."
   ]
  },
  {
   "cell_type": "markdown",
   "metadata": {},
   "source": [
    "#### Direct Addressing-\n",
    "In direct addressing we take a value from data as index of data.For eg in a class of 30 students we can take the the roll number 1-30 as index of the data.so roll no 5 will be at index 5 and roll no 28 will be at 28 index."
   ]
  },
  {
   "cell_type": "markdown",
   "metadata": {},
   "source": [
    "#### Shortcomings-\n",
    "Suppose the roll no lies between 1000 to 1999 in a class. Here although students are from 1000 to 1999 but the space will be filled from 0 to 1999 which is a wastage of space.\n",
    "##### So we can not use direct addressing when the number of possible key values is very large."
   ]
  },
  {
   "cell_type": "markdown",
   "metadata": {},
   "source": [
    "#### Hashing-\n",
    "* To convert a key into an address is called Hashing.It can be done using Hash Function.\n",
    "* This hash function will take key as input and it will return hash value of that key which will be used as address to store value.\n",
    "* Our kry can be of any value like integer, string but Hash value will always be a integer because it has the address."
   ]
  },
  {
   "cell_type": "markdown",
   "metadata": {},
   "source": [
    "#### Mathematically hash function can be written as\n",
    "h(k) = a\n",
    "#### Hash function h is a mapping from U(universe of keys ) to the slots of T[0..m-1]i.e.has tables.\n",
    "* Hash function h: Mapping from U to the slots of a hash table T[0..m-1]\n",
    "*  h:U -> {0,1,....m-1}"
   ]
  },
  {
   "cell_type": "markdown",
   "metadata": {},
   "source": [
    "### Procedure for storing and retrieving records using Hash Functions\n",
    "* First we create an array A of size M.\n",
    "* First we create a hash function h, which is a mapping from keys into integers 0,1...,M-1.\n",
    "* To insert a record we generate an address by applying hash function to the key insert the record at that address.\n",
    "* To retrieve a record we generate an address by applying some hash function to the key access the record at that address.\n",
    "##### Direct Address tables we have - key k mapped to the slot a[k].\n",
    "#### Hash tables key k mapped to a slot [h(k)]"
   ]
  },
  {
   "cell_type": "markdown",
   "metadata": {},
   "source": [
    "#### Collision-\n",
    "If your hash function generates the same address for different keys.\n",
    "##### Ideal hashfunction-\n",
    "Perform one to one mapping between set of all possible keys and all hash table addresses. But it is impossible to make a hash function that can totally prevent collisions.\n",
    "###### We can try to create a hash function that can minmise the collisions."
   ]
  },
  {
   "cell_type": "markdown",
   "metadata": {},
   "source": [
    "#### Collision resolution technique-\n",
    "Since we can not totally prevent the collision we require technique that handles the collision.\n",
    "* Open Addressing.\n",
    "* Seperate Chaining."
   ]
  },
  {
   "cell_type": "markdown",
   "metadata": {},
   "source": [
    "#### Hash Functions-\n",
    "* It is used to generate a hash address from a key.\n",
    "##### Basic properties of hash function-\n",
    "* Hash table of size m- Hash function should generate addresses in the range [0,m-1]\n",
    "* It should be determinietic - For a given key it should always return same address.\n",
    "* It should be easily computable.\n",
    "* It should generate addresses with minimum collision."
   ]
  },
  {
   "cell_type": "markdown",
   "metadata": {},
   "source": [
    "#### Constructing hash function-\n",
    "We will consider key as an integer.If it is not we will first convert it into integer using there ASKII values. \n",
    "* Truncation\n",
    "* Midsquare Method\n",
    "* Folding Method\n",
    "* Division Method"
   ]
  },
  {
   "cell_type": "markdown",
   "metadata": {},
   "source": [
    "#### Truncation(Extraction or Digit Selection)-\n",
    "It is the simplest of methods to construct a hash function.\n",
    "* Generate an address from a key by selecting some digits from the key."
   ]
  },
  {
   "cell_type": "markdown",
   "metadata": {},
   "source": [
    "#### Midsquare method-\n",
    "* In this we square the key and take some digits from the middle of the square as address.\n",
    "* If the value of key is large the square will be even larger so we can take the portion of the key and then peform the mid sqaure method."
   ]
  },
  {
   "cell_type": "markdown",
   "metadata": {},
   "source": [
    "#### Folding Method-\n",
    "Break the key into different groups such that the length of each group is the same as that of the required address.\n",
    "##### Shift folding -\n",
    "Example - \n",
    "* Suppose we have a table of size 1000 and key of eleven digits eg.68156432159.\n",
    "* we break the key into grp of three digits-681,564,321,59\n",
    "* Then we find the sum of all the digits which is 1625 so we can store the data at 625.\n",
    "##### Boundary folding-\n",
    "In boundary folding we revrse all the even groups before addition-\n",
    "* after breaking the key we got 681,564,321,59.\n",
    "* we willreverse all even digits-681,465,321,59 and sum them.\n",
    "* Then we find the summ which is 2417. We can store our address at 417."
   ]
  },
  {
   "cell_type": "markdown",
   "metadata": {},
   "source": [
    "### Division Method(Modulo Division or Modular Hashing)-\n",
    "In this we devide the key with the table size and we take remainder as the hash address.\n",
    "* We can minimise the collisions if we take the size as prime number."
   ]
  },
  {
   "cell_type": "markdown",
   "metadata": {},
   "source": [
    "#### Size of hash tables-\n",
    "* No of records - n\n",
    "* Size of Table - m\n",
    "* Load factor - Number of records/Size of the table."
   ]
  },
  {
   "cell_type": "markdown",
   "metadata": {},
   "source": [
    "#### Collision-\n",
    "If a key is mapped to an address that is already occupied we need to find an alternate place.\n",
    "for it we can us collision resolution techniques-\n",
    "* Open Addressing\n",
    "* Seperate Addressing"
   ]
  },
  {
   "cell_type": "markdown",
   "metadata": {},
   "source": [
    "#### Open Addressing-\n",
    "Place the colliding key at some empty location inside the table itself.For finding empty location we can use-\n",
    "* Linear probing\n",
    "* Quadratic probing.\n",
    "* Double Hashing."
   ]
  },
  {
   "cell_type": "markdown",
   "metadata": {},
   "source": [
    "#### Linear probing-\n",
    "* Place the colliding key at the next empty location in the table. \n",
    "#### Problem-\n",
    "* It forms cluster formation i.e. groups of records placed next to each other.When the size of cluster increases the search time increases."
   ]
  },
  {
   "cell_type": "markdown",
   "metadata": {},
   "source": [
    "##### Quadratic probing-\n",
    "* In this we place the colliding key at the sqare of the next number.\n",
    "* e.g location 6 is already occupied thrn we will try at 6+(1*1) i.e at 7 then we try at 6 + (2*2) 10 location.\n",
    "* Since we are storinf colliding keys away from th initial colliding point the scope of cluster formation decreases.\n",
    "##### Problem-\n",
    "* It forms secondary clustering.all keys hash to same address will always have same sequence the same locations.It will be less severe then primary clustering."
   ]
  },
  {
   "cell_type": "markdown",
   "metadata": {},
   "source": [
    "##### Double Hashing-"
   ]
  },
  {
   "cell_type": "markdown",
   "metadata": {},
   "source": [
    "In double hashing  will be having two hash functions the second hash function will be attached to the increment factor due to which increment factor will never be constant.\n",
    "* Second hash function-\n",
    "h1k = R-(k mod R)\n",
    "R is smaller then Tsize and is prime.\n",
    "##### Properties-\n",
    "* It should be the same as the primary hash function.\n",
    "* It should never evaluate to zero."
   ]
  },
  {
   "cell_type": "markdown",
   "metadata": {},
   "source": [
    "#### Seperate Chaining-\n",
    "Collision Resilution Technique-\n",
    "* We maintain linked list for records mapped to same hash value.\n",
    "* Each slot--> Refers to a linked list of all records that have same hash value.\n",
    "* Index i --> Refers to the linked list of all records that have hash value i. "
   ]
  },
  {
   "cell_type": "code",
   "execution_count": null,
   "metadata": {},
   "outputs": [],
   "source": [
    " "
   ]
  }
 ],
 "metadata": {
  "kernelspec": {
   "display_name": "Python 3",
   "language": "python",
   "name": "python3"
  },
  "language_info": {
   "codemirror_mode": {
    "name": "ipython",
    "version": 2
   },
   "file_extension": ".py",
   "mimetype": "text/x-python",
   "name": "python",
   "nbconvert_exporter": "python",
   "pygments_lexer": "ipython2",
   "version": "2.7.17"
  }
 },
 "nbformat": 4,
 "nbformat_minor": 2
}
