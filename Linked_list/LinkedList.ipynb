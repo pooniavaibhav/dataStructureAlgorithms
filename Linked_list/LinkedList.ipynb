{
 "cells": [
  {
   "cell_type": "markdown",
   "metadata": {},
   "source": [
    " ## LinkedList\n",
    " In a linked list data is not stored in continuous memory location.Since items are  not stored in sequential location so the relative positioning is maintained with the help of links. "
   ]
  },
  {
   "cell_type": "markdown",
   "metadata": {},
   "source": [
    "#### link and nodes\n",
    "A link is a reference to the next item on the list.So a each list item together with a link is called a node.nodes are the basic building blocks of the link list.A single list element is called a node. The nodes are not like arrays which are stored sequentially in memory. Instead, it is likely to find them at different memory segments, which you can find by following the pointers from one node to the next. It is common to mark the end of the list with a NIL element, represented by the Python equivalent None."
   ]
  },
  {
   "cell_type": "markdown",
   "metadata": {},
   "source": [
    "so we just need to know where is first node is.All other can be found by successively following the links.\n",
    "So while implementing a link list we maintain the reference to only the first node of the list.We call this reference start.\n",
    "#### So link list is a dynamic data structure made up of nodes arranged in sequential form.Dynamic data structure means we can allocate the required memory while the program is running. A dynamic data can expand or shrink easily during run time.so a link list doesent have a predetermined size. It allocates the memory for next item as and when it is required."
   ]
  },
  {
   "cell_type": "markdown",
   "metadata": {},
   "source": [
    "### features of link list:\n",
    "* Dynamic datastructure made of nodes.\n",
    "* Data in a linked list is not stored in a contiguous locations. so many items can be easily stored even if continuous memory is not available.\n",
    "* Insertion and deletion of elements is easier.\n",
    "* Can be used to implement abstract datatypes like list, stack, queue.\n",
    "\n",
    "### Disadvantages:\n",
    "* Efficient random access is not possible.\n",
    "* Implementation requires extra memory."
   ]
  },
  {
   "cell_type": "markdown",
   "metadata": {},
   "source": [
    "### Different linked list-\n",
    "* Single linked list\n",
    "* Double linked lists\n",
    "* Circular linked lists\n",
    "* Linked lists with header node\n",
    "* Sorted linked lists."
   ]
  },
  {
   "cell_type": "markdown",
   "metadata": {},
   "source": [
    "### Single Linked List:\n",
    "A single linked list is made up of nodes where each node has two parts\n",
    "* info - it contains actual data \n",
    "* link - it contains reference to the next node in the list.\n",
    "##### If a node has None link this means it is the end of the node.In empty linked list the start will have None."
   ]
  },
  {
   "cell_type": "markdown",
   "metadata": {},
   "source": [
    "### Doubly linked List\n",
    "In double linked list is made up of three parts:\n",
    "* info - It contains the actual data.\n",
    "* link1 - It contains the link to the node before current node. \n",
    "* link2 - It contains the link to the node next to current node.\n",
    "For the first node link1 is None and for the last node link 2 is None."
   ]
  },
  {
   "cell_type": "markdown",
   "metadata": {},
   "source": [
    "#### Advantage of Double linked list-\n",
    "* Can be traversed in both foreward and backward direction.\n",
    "* Implementation of some operations is easier; insertion,deletion can be done with a single reference.\n",
    "\n",
    "#### Disadvantages of linked list- \n",
    "* Extra space is required for storing previous link-\n",
    "* While inserting and deleting,some extra steps are required for maintaining the previous link."
   ]
  },
  {
   "cell_type": "markdown",
   "metadata": {},
   "source": [
    "#### Circular Linked List: \n",
    "In a circular link list there is no none link as the link of last node is connected to first node.\n",
    "In circular linked list it is better to keep the refernce referring to the last node."
   ]
  },
  {
   "cell_type": "markdown",
   "metadata": {},
   "source": [
    "### Linked List with the header:\n",
    "* Header node is a special node which is present in the begining of the list and link part of this node refers to the first real node of the list.\n",
    "* Info part of the linked list can be empty or we can use it to store some use ful information like number of nodes in the list.\n",
    "* header node is never deleted. It stays even if the list is empty."
   ]
  }
 ],
 "metadata": {
  "kernelspec": {
   "display_name": "Python 3",
   "language": "python",
   "name": "python3"
  },
  "language_info": {
   "codemirror_mode": {
    "name": "ipython",
    "version": 2
   },
   "file_extension": ".py",
   "mimetype": "text/x-python",
   "name": "python",
   "nbconvert_exporter": "python",
   "pygments_lexer": "ipython2",
   "version": "2.7.17"
  }
 },
 "nbformat": 4,
 "nbformat_minor": 2
}
