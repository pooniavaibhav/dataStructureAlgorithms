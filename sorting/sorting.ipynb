{
 "cells": [
  {
   "cell_type": "markdown",
   "metadata": {},
   "source": [
    "## Sorting\n",
    "Sorting is a process in which data is arranged in specific order.\n",
    "### Importance\n",
    "* Faster information retrieval.\n",
    "###### A step in sorting is called pass. After last pass data becomes sorted.\n",
    "##### In-place sort-\n",
    "* No need of any extra storage.\n",
    "* Might need only constant number of variables - independent of size of data.\n",
    "* Example - Selection sort, bubble sort , insertion sort, shell sort.\n",
    "##### Not-In place sorting-\n",
    "* Need extra storage to store intermediate results of the sorting.\n",
    "* Extra storage is proportional to size of data.\n",
    "* Merge sort."
   ]
  },
  {
   "cell_type": "markdown",
   "metadata": {},
   "source": [
    "### Sort Efficiency-\n",
    "* Space requirement.\n",
    "* Run time or execution time.\n",
    "* Run time efficiency can be expressed in terms of O notation."
   ]
  },
  {
   "cell_type": "markdown",
   "metadata": {},
   "source": [
    "### Basic operations -\n",
    "* Comparisions\n",
    "* Record Movements"
   ]
  },
  {
   "cell_type": "markdown",
   "metadata": {},
   "source": [
    "### Sort Stability-\n",
    "Data to be sorted can have duplicate elements. A stable sorting algorithm maintains the relative order of that duplicate algorithms while in unstable sorting algo we might change the order of the elements."
   ]
  },
  {
   "cell_type": "markdown",
   "metadata": {},
   "source": [
    "### Selection Sorting-\n",
    "Sorting is performed by selecting the smallest element in each step and place it at its proper place."
   ]
  },
  {
   "cell_type": "markdown",
   "metadata": {},
   "source": [
    "### Analysis of Selection sort-\n",
    "Total comparisions = n(n-1)/2 = O(n^2)"
   ]
  },
  {
   "cell_type": "markdown",
   "metadata": {},
   "source": [
    "### Properties-\n",
    "* It is not a sensetive sort.\n",
    "* Less data movement.\n",
    "* In place sort.\n",
    "* Unstable sort."
   ]
  },
  {
   "cell_type": "markdown",
   "metadata": {},
   "source": [
    "## Bubble sort\n",
    "Adjacent elements are compared and swapped if they are not in order."
   ]
  },
  {
   "cell_type": "markdown",
   "metadata": {},
   "source": [
    "### Analysis-\n",
    "Bubble sort is a data sensetive sort. The performance will depend on the order of the data.\n"
   ]
  },
  {
   "cell_type": "markdown",
   "metadata": {},
   "source": [
    "## Insertion Sort -\n",
    "It is performed by inserting each element at its proper place in a sorted list.\n"
   ]
  },
  {
   "cell_type": "markdown",
   "metadata": {},
   "source": [
    "### Analysis-\n",
    "The performance depends on the order of the data."
   ]
  },
  {
   "cell_type": "markdown",
   "metadata": {},
   "source": [
    "## Shell sort(Diminishing Increment sort) -\n",
    "It is an improvement over insertion sort. In this we in each pass we will take a number (h) called increment\n",
    " and we will decrease it to last pass which is one.In each pass we create h sublists that are at a distance of h from each other. These sublist will be sorted using insertion sort.\n"
   ]
  },
  {
   "cell_type": "markdown",
   "metadata": {},
   "source": [
    "### Analysis-\n",
    "Running time dependent on number of increments and their values."
   ]
  },
  {
   "cell_type": "markdown",
   "metadata": {},
   "source": [
    "## Recursive merge sort-\n",
    "* Devide the list into two sublists of almost equal size.\n",
    "* Sort the left sublist recursively through merge sort.\n",
    "* Sort the right sublist recursively through merge sort.\n",
    "* Merge the two sorted sublist. "
   ]
  },
  {
   "cell_type": "markdown",
   "metadata": {},
   "source": [
    "### Analysis\n",
    "* This is a stable sort.\n",
    "* Performance of merge sort is O(nlogbase2n)"
   ]
  },
  {
   "cell_type": "markdown",
   "metadata": {},
   "source": [
    "## Iterative merge sort\n"
   ]
  },
  {
   "cell_type": "markdown",
   "metadata": {},
   "source": [
    "* List of n elements ---> n sorted sublist of size 1\n",
    "* Adjacent sublists of size 1 are merged  ----> n/2 sublists of size 2\n",
    "* Adjacent sublists of size 2 are merged -----> n/4 sublists of size 4\n",
    "* This process will continue till we get sorted list."
   ]
  },
  {
   "cell_type": "markdown",
   "metadata": {},
   "source": [
    "## Quick sort(Partition-Exchange-sort)-\n",
    "* An element from the list - Place it at proper position in the pivot.\n",
    "* All elements left of the pivot are less than or equal to the pivot.\n",
    "* All elemets right of the pivot are greater than or equal to the pivot.\n",
    "* This process continus fpr nboth the left and right sublist."
   ]
  },
  {
   "cell_type": "markdown",
   "metadata": {},
   "source": [
    "### Analysis-\n",
    "* Unstable spot\n",
    "* space complexity is O(log n)"
   ]
  },
  {
   "cell_type": "markdown",
   "metadata": {},
   "source": [
    "## Binary Tree sort\n",
    "* Create a binary search tree from the given data.\n",
    "* Traverse the binary search search tree in order."
   ]
  },
  {
   "cell_type": "markdown",
   "metadata": {},
   "source": [
    "### Analysis\n",
    "* Stable sort\n",
    "* Not an in place sort.\n",
    "* can use threaded binary search tree"
   ]
  },
  {
   "cell_type": "markdown",
   "metadata": {},
   "source": [
    "## Heap sort -\n",
    "* Convert the array to a max heap.\n",
    "* Root is successively deleted till there is only one element left in the tree."
   ]
  },
  {
   "cell_type": "markdown",
   "metadata": {},
   "source": [
    "## Radix sort -\n",
    "In radix the sorting is done from least significant to the most significant digits.\n"
   ]
  },
  {
   "cell_type": "code",
   "execution_count": null,
   "metadata": {},
   "outputs": [],
   "source": []
  }
 ],
 "metadata": {
  "kernelspec": {
   "display_name": "Python 3",
   "language": "python",
   "name": "python3"
  },
  "language_info": {
   "codemirror_mode": {
    "name": "ipython",
    "version": 2
   },
   "file_extension": ".py",
   "mimetype": "text/x-python",
   "name": "python",
   "nbconvert_exporter": "python",
   "pygments_lexer": "ipython2",
   "version": "2.7.17"
  }
 },
 "nbformat": 4,
 "nbformat_minor": 2
}
