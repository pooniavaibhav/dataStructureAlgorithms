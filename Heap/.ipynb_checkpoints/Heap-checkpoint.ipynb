{
 "cells": [
  {
   "cell_type": "markdown",
   "metadata": {},
   "source": [
    "### Heap\n",
    "Heap is abinary tree with these two properties-\n",
    "\n",
    "#### Structure property-\n",
    "* All levels have maximum number of nodes except possibly the last level,\n",
    "* In the last level, all the nodes are to the left.\n",
    "\n",
    "#### Heap order property-\n",
    "* Key in any node N is greater than or equal to the keys in both children of N\n",
    "* Key in node N is greater than or equal to the keys of all the descendents.'\n",
    "* Root node contains the highest key."
   ]
  },
  {
   "cell_type": "markdown",
   "metadata": {},
   "source": [
    "#### Max heaps-\n",
    "key in ay node N is greater than or equal to the keys in both children of N."
   ]
  },
  {
   "cell_type": "markdown",
   "metadata": {},
   "source": [
    "#### Min Heaps-\n",
    "Key in any node N is smaller than or equal to the keys in both its children."
   ]
  },
  {
   "cell_type": "markdown",
   "metadata": {},
   "source": [
    "## Representation-\n",
    "Heap tree is a complete binary tree. Sequential representation is good for complete binary tree.So we will represent our heap in sequeantial representation.\n",
    "* In sequential representation we take a 1-D array and store the root at index 1 of the array.\n",
    "* Left child of node N at index i- index2i.If 2i > n it means left child does not exist.\n",
    "* Right child of node N at index i - indexc(2i+1).If 2i+1 > n Right child does not exist. \n",
    "* Parent of node at index i - index floor(i/2)"
   ]
  },
  {
   "cell_type": "markdown",
   "metadata": {},
   "source": [
    "### Applications of heap\n",
    "* Used in the problems where largest (or smallest) value has to be found.\n",
    "* Selection Algorithm\n",
    "* Implementation of Priority Queue\n",
    "* Heap sort"
   ]
  },
  {
   "cell_type": "code",
   "execution_count": null,
   "metadata": {},
   "outputs": [],
   "source": []
  }
 ],
 "metadata": {
  "kernelspec": {
   "display_name": "Python 3",
   "language": "python",
   "name": "python3"
  },
  "language_info": {
   "codemirror_mode": {
    "name": "ipython",
    "version": 2
   },
   "file_extension": ".py",
   "mimetype": "text/x-python",
   "name": "python",
   "nbconvert_exporter": "python",
   "pygments_lexer": "ipython2",
   "version": "2.7.17"
  }
 },
 "nbformat": 4,
 "nbformat_minor": 2
}
