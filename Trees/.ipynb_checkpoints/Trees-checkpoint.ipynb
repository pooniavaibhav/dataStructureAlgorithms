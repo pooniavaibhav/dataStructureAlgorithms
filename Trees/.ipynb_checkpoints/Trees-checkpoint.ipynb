{
 "cells": [
  {
   "cell_type": "markdown",
   "metadata": {},
   "source": [
    "## Trees-\n",
    "Trees are non-linear data structures.In a tree data is structured in hierarchical relationship among its element.\n",
    "### Structure\n",
    "* Each element in tree is called node.\n",
    "* Edge is a line connecting the nodes.\n",
    "* Parent node- Immediate predecessor of a node.\n",
    "* child node - Immediate successor of a node.\n",
    "* root node - Specially designated node that does not have any parent.\n",
    "* Leaf node- Node that does not have any child.\n",
    "* level - Distance of that node from the root.\n",
    "* height - Total number of levels on tree.\n",
    "* sibling - Two or more nodes having same parent.\n",
    "* path - Sequence of nodes N1,N2,N3 such that each node Ni is a parent of Ni+1 for 1<i<=x\n",
    "* Ancestor - Node Na is an ancestor of node Nx if Na lies in the unique path from root node to Nx.\n",
    "* Descendent - If node na is ancestor of node Nx, then node Nx is descendent of node Na.\n",
    "* Subtree A tree can be devided into various sub trees.\n",
    "* Degree - The number of sub trees or children of a node.\n",
    "* A forest is a set of n disjoint trees where n >=0.\n",
    "### In a tree there can only be one path between two nodes."
   ]
  },
  {
   "cell_type": "markdown",
   "metadata": {},
   "source": [
    "## Definitions-\n",
    "A tree is a finite set of nodes such that:\n",
    "* There is a distinguished node called root.\n",
    "* Remaining nodes are partitioned into n >= 0 disjoint sets T1,T2....Tn where each of these sets is a tree. The sets T1,T2...Tn are sub trees of root."
   ]
  },
  {
   "cell_type": "markdown",
   "metadata": {},
   "source": [
    "## Binary Trees-\n",
    "In a  binary tree a node can not have more then two children.So a binary tree is a finite set of nodes that is \n",
    "* either empty or\n",
    "* consists of a distinguished node known as root and remaining nodes are partitioned into two disjoint aets T1 and t2 and both are of them are binary trees. T1 is called left subtree and T2 is called right sub tree."
   ]
  },
  {
   "cell_type": "markdown",
   "metadata": {},
   "source": [
    "### Properties\n",
    "* In a binary tree, maximum number of nodes on any level i is 2 power i where i >=0.\n",
    "* In a binary tree of height h , maximum number of nodes possible is 2 powerh - 1.\n",
    "* In a binary tree of height h , minimum number of nodes possible is h. The tree with minimum nodes is called SKEW TREES.\n",
    "* For a binary tree with nodes n, maximum height possible is n and Minimum height is [log2(n+1)].\n",
    "* In a non empty binary tree, if n = number of nodes, e = number of edges, then e = n-1.\n",
    "* In a non empty binary tree, if n0 = number of nodes with no child.n2 = number of nodes with 2 children then n0 = n2+1."
   ]
  },
  {
   "cell_type": "markdown",
   "metadata": {},
   "source": [
    "## Strictly Binary Tree-\n",
    "* A binary tree in which each node is either a leaf node or has two children.\n",
    "* A  strictly binary tree with n leaf nodes has n-1 non leaf nodes.\n",
    "* A strictly binary tree with n leaf nodes has total 2n-1 nodes. "
   ]
  },
  {
   "cell_type": "markdown",
   "metadata": {},
   "source": [
    "## Extended Binary Tree-\n",
    "In a binary tree, if each empty sub tree is replaced by a special node then the resulting tree is extended binary tree or 2-tree.\n",
    "* External nodes- Special nodes\n",
    "* Internal nodes- original node\n",
    "#### Path length \n",
    "number of edges traversed from that node to the root node.\n",
    "* Internal path length- sum of path lengths of all internal nodes.\n",
    "* External path length- sum of path lengths of all external nodes.\n",
    "#### Property-\n",
    "In an extended binary tree , if E is the external path length, I is the internal path length and n is the number of internal nodes, then E = I +2n."
   ]
  },
  {
   "cell_type": "markdown",
   "metadata": {},
   "source": [
    "## Full Binary Tree-\n",
    "A binary tree in which each level has maximum number of nodes."
   ]
  },
  {
   "cell_type": "markdown",
   "metadata": {},
   "source": [
    "## Complete binary tree-\n",
    "All levels have maximum number of nodes except possible the last level. In the last level number of nodes range from 1 to @ power h-1 and all these nodes are towards the left.\n"
   ]
  },
  {
   "cell_type": "markdown",
   "metadata": {},
   "source": [
    "Height of a complete binary tree = [log bas2 (n+1)]\n",
    "#### Property-\n",
    "If height of a complete binary tree is h, h>1,\n",
    "* Maximum number of nodes possible is 2 powerh -1 1\n",
    "* Minimum number of nodes possible is 2 powerh-1"
   ]
  },
  {
   "cell_type": "markdown",
   "metadata": {},
   "source": [
    "## Representation of Binary trees in Memory-\n",
    "* Sequential representation - using spli list.\n",
    "* Linked representation - Linked List."
   ]
  },
  {
   "cell_type": "markdown",
   "metadata": {},
   "source": [
    "### Traversal in Binary Tree:\n",
    "Visting each node once.\n",
    "Suppose we have following ways-\n",
    "* N - Visiting the root node\n",
    "* L - Traversing the left node\n",
    "* R - Traversing its right sub tree.\n",
    "Now we can travese it in following ways-\n",
    "* Preorder- Root node is visited brfore left sub tree and right sub tree.\n",
    "* Inorder- Root node is visited in betwen Left sub tree and right sub tree.\n",
    "* Postorder- Root node is visited after left and right sub tree. \n",
    "* Level traversal - nodes are traversed level by level.\n",
    "\n",
    "### In all the traversals left sub tree is always visited before right sub tree."
   ]
  },
  {
   "cell_type": "code",
   "execution_count": null,
   "metadata": {},
   "outputs": [],
   "source": []
  }
 ],
 "metadata": {
  "kernelspec": {
   "display_name": "Python 3",
   "language": "python",
   "name": "python3"
  },
  "language_info": {
   "codemirror_mode": {
    "name": "ipython",
    "version": 2
   },
   "file_extension": ".py",
   "mimetype": "text/x-python",
   "name": "python",
   "nbconvert_exporter": "python",
   "pygments_lexer": "ipython2",
   "version": "2.7.17"
  }
 },
 "nbformat": 4,
 "nbformat_minor": 2
}
